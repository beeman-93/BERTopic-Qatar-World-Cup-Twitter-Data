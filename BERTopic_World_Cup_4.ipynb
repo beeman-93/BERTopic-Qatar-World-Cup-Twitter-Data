{
 "cells": [
  {
   "cell_type": "code",
   "execution_count": null,
   "id": "97a0a72a-d26c-4a4e-bc46-f77297ee1ba8",
   "metadata": {},
   "outputs": [],
   "source": [
    "import pandas as pd\n",
    "import pickle\n",
    "with open('world_cup_tweets.pkl', 'rb') as f:\n",
    "    df_new = pickle.load(f)\n",
    "\n",
    "texts=df_new['Tweet_processed']\n",
    "\n",
    "# Set the language to English. There is other language models as well. \n",
    "from bertopic import BERTopic\n",
    "topic_model = BERTopic(language=\"english\", calculate_probabilities=True, verbose=True)\n",
    "topics, probs = topic_model.fit_transform(texts)"
   ]
  },
  {
   "cell_type": "code",
   "execution_count": null,
   "id": "23eb7c5c-e6c4-4510-af8f-7e50b81feda6",
   "metadata": {},
   "outputs": [],
   "source": [
    "freq = topic_model.get_topic_info(); freq.head(11)\n",
    "freq.to_csv('freq.csv', index=False)"
   ]
  },
  {
   "cell_type": "code",
   "execution_count": null,
   "id": "bb526ecc-fe6a-46f6-879c-d0d3c51d77bc",
   "metadata": {},
   "outputs": [],
   "source": [
    "representative_docs = topic_model.get_representative_docs(0)\n",
    "representative_docs\n"
   ]
  },
  {
   "cell_type": "code",
   "execution_count": null,
   "id": "89ce683b-8dd5-48a2-b294-ba37717271e2",
   "metadata": {},
   "outputs": [],
   "source": [
    "df = pd.DataFrame({'topic': topics, 'document': texts})\n",
    "topic_0 = df[df.topic == 0][:10]\n",
    "topic_0['document'].tolist()"
   ]
  },
  {
   "cell_type": "code",
   "execution_count": null,
   "id": "a6871cf3-4a93-44f2-a6d0-c8d1a4f8d506",
   "metadata": {},
   "outputs": [],
   "source": [
    "for topic in range(10):\n",
    "    topic_info = topic_model.get_topic(topic)\n",
    "    representative_docs = df[df.topic == topic][:10]['document'].tolist()\n",
    "    \n",
    "    print(\"Topic: \", topic)\n",
    "    print(\"Topic Information: \")\n",
    "    print(topic_info)\n",
    "    print(\"Representative Documents: \")\n",
    "    print(representative_docs)\n",
    "    print(\"\\n\")"
   ]
  },
  {
   "cell_type": "code",
   "execution_count": null,
   "id": "30004939-f16e-4e5e-afbc-eb681b2c9ac0",
   "metadata": {},
   "outputs": [],
   "source": [
    "with open('topic_info_and_representative_docs.txt', 'w') as f:\n",
    "    # Loop over the topics and write the output to the file\n",
    "    for topic in range(10):\n",
    "        topic_info = topic_model.get_topic(topic)\n",
    "        representative_docs = df[df.topic == topic][:10]['document'].tolist()\n",
    "\n",
    "        f.write(f\"Topic: {topic}\\n\")\n",
    "        f.write(\"Topic Information: \\n\")\n",
    "        f.write(f\"{topic_info}\\n\")\n",
    "        f.write(\"Representative Documents: \\n\")\n",
    "        for doc in representative_docs:\n",
    "            f.write(f\"{doc}\\n\")\n",
    "        f.write(\"\\n\")"
   ]
  },
  {
   "cell_type": "code",
   "execution_count": null,
   "id": "2ac83893-49d9-436c-9939-b8638762efd9",
   "metadata": {},
   "outputs": [],
   "source": []
  }
 ],
 "metadata": {
  "kernelspec": {
   "display_name": "Python 3 (ipykernel)",
   "language": "python",
   "name": "python3"
  },
  "language_info": {
   "codemirror_mode": {
    "name": "ipython",
    "version": 3
   },
   "file_extension": ".py",
   "mimetype": "text/x-python",
   "name": "python",
   "nbconvert_exporter": "python",
   "pygments_lexer": "ipython3",
   "version": "3.8.13"
  }
 },
 "nbformat": 4,
 "nbformat_minor": 5
}
