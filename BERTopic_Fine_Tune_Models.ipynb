{
 "cells": [
  {
   "cell_type": "code",
   "execution_count": 1,
   "id": "a2618656-b5be-4f48-8068-33f517c6e390",
   "metadata": {},
   "outputs": [],
   "source": [
    "import pandas as pd\n",
    "import pickle\n",
    "with open('world_cup_tweets.pkl', 'rb') as f:\n",
    "    data = pickle.load(f)"
   ]
  },
  {
   "cell_type": "code",
   "execution_count": 2,
   "id": "35531582-d1f5-4ffc-89bc-bab0a2561a6d",
   "metadata": {},
   "outputs": [],
   "source": [
    "data = data.Tweet_processed.to_list()"
   ]
  },
  {
   "cell_type": "code",
   "execution_count": 3,
   "id": "1c82cb5c-99f8-4296-800b-a37c54a75658",
   "metadata": {},
   "outputs": [
    {
     "name": "stderr",
     "output_type": "stream",
     "text": [
      "/Users/danmengcai/.local/lib/python3.8/site-packages/tqdm/auto.py:22: TqdmWarning: IProgress not found. Please update jupyter and ipywidgets. See https://ipywidgets.readthedocs.io/en/stable/user_install.html\n",
      "  from .autonotebook import tqdm as notebook_tqdm\n"
     ]
    }
   ],
   "source": [
    "from umap import UMAP\n",
    "from hdbscan import HDBSCAN"
   ]
  },
  {
   "cell_type": "code",
   "execution_count": 4,
   "id": "bc37b396-6863-4732-b62a-517039c38a8d",
   "metadata": {},
   "outputs": [],
   "source": [
    "umap_model = UMAP(n_neighbors=3, n_components=3, min_dist=0.05)\n",
    "hdbscan_model = HDBSCAN(min_cluster_size=80, min_samples=40,\n",
    "                        gen_min_span_tree=True,\n",
    "                        prediction_data=True)"
   ]
  },
  {
   "cell_type": "code",
   "execution_count": 30,
   "id": "9d9e36b6-93ae-4384-b384-55d6bae3f437",
   "metadata": {},
   "outputs": [
    {
     "name": "stderr",
     "output_type": "stream",
     "text": [
      "Batches: 100%|██████████| 313/313 [02:07<00:00,  2.45it/s]\n",
      "2023-03-26 14:23:33,717 - BERTopic - Transformed documents to Embeddings\n",
      "2023-03-26 14:23:39,021 - BERTopic - Reduced dimensionality\n",
      "2023-03-26 14:23:39,915 - BERTopic - Clustered reduced embeddings\n"
     ]
    },
    {
     "name": "stdout",
     "output_type": "stream",
     "text": [
      "Time taken:  136.26601099967957 seconds\n"
     ]
    }
   ],
   "source": [
    "import time\n",
    "start_time = time.time()\n",
    "\n",
    "from bertopic import BERTopic\n",
    "\n",
    "model = BERTopic(\n",
    "    umap_model=umap_model,\n",
    "    hdbscan_model=hdbscan_model,\n",
    "    top_n_words=10,\n",
    "    language='english',\n",
    "    calculate_probabilities=True,\n",
    "    verbose=True,\n",
    "    n_gram_range=(1, 2)\n",
    ")\n",
    "topics_A, probs_A = model.fit_transform(data)\n",
    "\n",
    "end_time = time.time()\n",
    "print(\"Time taken: \", end_time - start_time, \"seconds\")"
   ]
  },
  {
   "cell_type": "code",
   "execution_count": 15,
   "id": "0bf89117-78e7-4ae3-817b-895a5d3c5802",
   "metadata": {},
   "outputs": [
    {
     "name": "stderr",
     "output_type": "stream",
     "text": [
      "Batches: 100%|██████████| 313/313 [02:06<00:00,  2.47it/s]\n",
      "2023-03-26 13:56:31,844 - BERTopic - Transformed documents to Embeddings\n",
      "2023-03-26 13:56:42,529 - BERTopic - Reduced dimensionality\n",
      "2023-03-26 13:56:50,661 - BERTopic - Clustered reduced embeddings\n"
     ]
    },
    {
     "name": "stdout",
     "output_type": "stream",
     "text": [
      "Time taken:  150.38280987739563 seconds\n"
     ]
    }
   ],
   "source": [
    "import time\n",
    "start_time = time.time()\n",
    "\n",
    "from bertopic import BERTopic\n",
    "topic_model = BERTopic(language=\"english\", calculate_probabilities=True, verbose=True, n_gram_range=(1, 2))\n",
    "topics_B, probs_B = topic_model.fit_transform(data)\n",
    "\n",
    "end_time = time.time()\n",
    "print(\"Time taken: \", end_time - start_time, \"seconds\")"
   ]
  },
  {
   "cell_type": "code",
   "execution_count": 31,
   "id": "91f43e2e-a4cd-4bc7-bae6-9168ef333af1",
   "metadata": {},
   "outputs": [],
   "source": [
    "freq_A = model.get_topic_info()"
   ]
  },
  {
   "cell_type": "code",
   "execution_count": 41,
   "id": "df398e92-4547-4996-8fad-d66c2331fb77",
   "metadata": {},
   "outputs": [],
   "source": [
    "# freq_A"
   ]
  },
  {
   "cell_type": "code",
   "execution_count": 33,
   "id": "62477a7c-542c-4b86-af35-7652aeb0d999",
   "metadata": {},
   "outputs": [],
   "source": [
    "freq_B = topic_model.get_topic_info()"
   ]
  },
  {
   "cell_type": "code",
   "execution_count": 42,
   "id": "384b66d8-a364-41bf-9622-71baaa787e77",
   "metadata": {},
   "outputs": [],
   "source": [
    "# freq_B[:11]"
   ]
  },
  {
   "cell_type": "code",
   "execution_count": 43,
   "id": "bf933911-e5ce-41de-9c7a-59836623605d",
   "metadata": {},
   "outputs": [],
   "source": [
    "# model.visualize_barchart(top_n_topics=10)"
   ]
  },
  {
   "cell_type": "code",
   "execution_count": 44,
   "id": "591cf075-545d-45b0-b8dd-6c71f7bccf17",
   "metadata": {},
   "outputs": [],
   "source": [
    "# topic_model.visualize_barchart(top_n_topics=10)"
   ]
  },
  {
   "cell_type": "code",
   "execution_count": 45,
   "id": "e153aa58-c5b2-4bb4-95e7-cc0336ab8c58",
   "metadata": {},
   "outputs": [],
   "source": [
    "# model.visualize_hierarchy()"
   ]
  },
  {
   "cell_type": "code",
   "execution_count": 46,
   "id": "2a31c730-8a6b-42d6-a104-412120e467c3",
   "metadata": {},
   "outputs": [],
   "source": [
    "# topic_model.visualize_hierarchy()"
   ]
  },
  {
   "cell_type": "code",
   "execution_count": 49,
   "id": "99e0267d-7fd9-4110-81f7-8837a1a3ad2a",
   "metadata": {},
   "outputs": [
    {
     "ename": "IndentationError",
     "evalue": "unexpected indent (728242757.py, line 3)",
     "output_type": "error",
     "traceback": [
      "\u001b[0;36m  Input \u001b[0;32mIn [49]\u001b[0;36m\u001b[0m\n\u001b[0;31m    topic_info = model.get_topic(topic)\u001b[0m\n\u001b[0m    ^\u001b[0m\n\u001b[0;31mIndentationError\u001b[0m\u001b[0;31m:\u001b[0m unexpected indent\n"
     ]
    }
   ],
   "source": [
    "df = pd.DataFrame({'topic': topics_A, 'document': data})\n",
    "for topic in range(10):\n",
    "    topic_info = model.get_topic(topic)\n",
    "    representative_docs = df[df.topic == topic][:10]['document'].tolist()\n",
    "    \n",
    "    print(\"Topic: \", topic)\n",
    "    print(\"Topic Information: \")\n",
    "    print(topic_info)\n",
    "    print(\"Representative Documents: \")\n",
    "    print(representative_docs)\n",
    "    print(\"\\n\")"
   ]
  },
  {
   "cell_type": "code",
   "execution_count": 50,
   "id": "3fec0b0b-8503-4952-a0a0-ffa65a039af8",
   "metadata": {},
   "outputs": [
    {
     "ename": "IndentationError",
     "evalue": "unexpected indent (2352917094.py, line 3)",
     "output_type": "error",
     "traceback": [
      "\u001b[0;36m  Input \u001b[0;32mIn [50]\u001b[0;36m\u001b[0m\n\u001b[0;31m    topic_info = topic_model.get_topic(topic)\u001b[0m\n\u001b[0m    ^\u001b[0m\n\u001b[0;31mIndentationError\u001b[0m\u001b[0;31m:\u001b[0m unexpected indent\n"
     ]
    }
   ],
   "source": [
    "df = pd.DataFrame({'topic': topics_B, 'document': data})\n",
    "for topic in range(10):\n",
    "    topic_info = topic_model.get_topic(topic)\n",
    "    representative_docs = df[df.topic == topic][:10]['document'].tolist()\n",
    "    \n",
    "    print(\"Topic: \", topic)\n",
    "    print(\"Topic Information: \")\n",
    "    print(topic_info)\n",
    "    print(\"Representative Documents: \")\n",
    "    print(representative_docs)\n",
    "    print(\"\\n\")"
   ]
  },
  {
   "cell_type": "code",
   "execution_count": 40,
   "id": "0a830097-18bb-45db-aa6f-cb5cf9697f23",
   "metadata": {},
   "outputs": [
    {
     "name": "stderr",
     "output_type": "stream",
     "text": [
      "Batches: 100%|██████████| 313/313 [02:06<00:00,  2.48it/s]\n",
      "2023-03-26 15:00:21,712 - BERTopic - Transformed documents to Embeddings\n",
      "2023-03-26 15:00:31,458 - BERTopic - Reduced dimensionality\n",
      "2023-03-26 15:00:32,787 - BERTopic - Clustered reduced embeddings\n",
      "Batches: 100%|██████████| 313/313 [02:05<00:00,  2.49it/s]\n",
      "2023-03-26 15:02:40,510 - BERTopic - Transformed documents to Embeddings\n",
      "2023-03-26 15:02:49,648 - BERTopic - Reduced dimensionality\n",
      "2023-03-26 15:02:50,331 - BERTopic - Clustered reduced embeddings\n",
      "Batches: 100%|██████████| 313/313 [02:11<00:00,  2.38it/s]\n",
      "2023-03-26 15:05:03,826 - BERTopic - Transformed documents to Embeddings\n",
      "2023-03-26 15:05:12,959 - BERTopic - Reduced dimensionality\n",
      "2023-03-26 15:05:13,728 - BERTopic - Clustered reduced embeddings\n",
      "Batches: 100%|██████████| 313/313 [02:09<00:00,  2.42it/s]\n",
      "2023-03-26 15:07:25,221 - BERTopic - Transformed documents to Embeddings\n",
      "2023-03-26 15:07:34,801 - BERTopic - Reduced dimensionality\n",
      "2023-03-26 15:07:35,680 - BERTopic - Clustered reduced embeddings\n",
      "Batches: 100%|██████████| 313/313 [02:09<00:00,  2.43it/s]\n",
      "2023-03-26 15:09:46,936 - BERTopic - Transformed documents to Embeddings\n",
      "2023-03-26 15:09:54,951 - BERTopic - Reduced dimensionality\n",
      "2023-03-26 15:09:55,556 - BERTopic - Clustered reduced embeddings\n",
      "Batches: 100%|██████████| 313/313 [02:06<00:00,  2.47it/s]\n",
      "2023-03-26 15:12:04,096 - BERTopic - Transformed documents to Embeddings\n",
      "2023-03-26 15:12:11,919 - BERTopic - Reduced dimensionality\n",
      "2023-03-26 15:12:13,140 - BERTopic - Clustered reduced embeddings\n",
      "Batches: 100%|██████████| 313/313 [02:06<00:00,  2.46it/s]\n",
      "2023-03-26 15:14:22,754 - BERTopic - Transformed documents to Embeddings\n",
      "2023-03-26 15:14:28,737 - BERTopic - Reduced dimensionality\n",
      "2023-03-26 15:14:29,454 - BERTopic - Clustered reduced embeddings\n",
      "Batches: 100%|██████████| 313/313 [02:04<00:00,  2.51it/s]\n",
      "2023-03-26 15:16:35,548 - BERTopic - Transformed documents to Embeddings\n",
      "2023-03-26 15:16:40,682 - BERTopic - Reduced dimensionality\n",
      "2023-03-26 15:16:41,466 - BERTopic - Clustered reduced embeddings\n",
      "Batches: 100%|██████████| 313/313 [02:04<00:00,  2.51it/s]\n",
      "2023-03-26 15:18:47,725 - BERTopic - Transformed documents to Embeddings\n",
      "2023-03-26 15:18:52,840 - BERTopic - Reduced dimensionality\n",
      "2023-03-26 15:18:53,985 - BERTopic - Clustered reduced embeddings\n"
     ]
    }
   ],
   "source": [
    "from bertopic import BERTopic\n",
    "from umap import UMAP\n",
    "from hdbscan import HDBSCAN\n",
    "\n",
    "# Define a list of parameters to try for UMAP\n",
    "umap_params = [\n",
    "    {'n_neighbors': 15, 'n_components': 2, 'min_dist': 0.1},\n",
    "    {'n_neighbors': 10, 'n_components': 2, 'min_dist': 0.01},\n",
    "    {'n_neighbors': 3, 'n_components': 2, 'min_dist': 0.001}\n",
    "]\n",
    "\n",
    "# Define a list of parameters to try for HDBSCAN\n",
    "hdbscan_params = [\n",
    "    {'min_cluster_size': 100, 'min_samples': 100},\n",
    "    {'min_cluster_size': 50, 'min_samples': 70},\n",
    "    {'min_cluster_size': 5, 'min_samples': 50}\n",
    "]\n",
    "\n",
    "# Loop over the parameter combinations and fit BERTopic models\n",
    "for umap_param in umap_params:\n",
    "    for hdbscan_param in hdbscan_params:\n",
    "        # Create UMAP and HDBSCAN models with the current parameter combination\n",
    "        umap_model = UMAP(**umap_param)\n",
    "        hdbscan_model = HDBSCAN(**hdbscan_param, gen_min_span_tree=True, prediction_data=True)\n",
    "\n",
    "        # Fit a BERTopic model with the current parameter combination\n",
    "        model = BERTopic(\n",
    "            umap_model=umap_model,\n",
    "            hdbscan_model=hdbscan_model,\n",
    "            top_n_words=10,\n",
    "            language='english',\n",
    "            calculate_probabilities=True,\n",
    "            verbose=True,\n",
    "            n_gram_range=(1, 2)\n",
    "        )\n",
    "        topics, probs = model.fit_transform(data)\n",
    "\n",
    "        # Visualize the hierarchy and save the figure to an HTML file\n",
    "        fig = model.visualize_hierarchy()\n",
    "        fig.write_html(f'model_umap_{umap_param}_hdbscan_{hdbscan_param}.html')\n"
   ]
  },
  {
   "cell_type": "code",
   "execution_count": null,
   "id": "1dc014ef-1b64-44fc-89a0-8e289fbf88ee",
   "metadata": {},
   "outputs": [],
   "source": []
  }
 ],
 "metadata": {
  "kernelspec": {
   "display_name": "Python 3 (ipykernel)",
   "language": "python",
   "name": "python3"
  },
  "language_info": {
   "codemirror_mode": {
    "name": "ipython",
    "version": 3
   },
   "file_extension": ".py",
   "mimetype": "text/x-python",
   "name": "python",
   "nbconvert_exporter": "python",
   "pygments_lexer": "ipython3",
   "version": "3.8.13"
  }
 },
 "nbformat": 4,
 "nbformat_minor": 5
}
