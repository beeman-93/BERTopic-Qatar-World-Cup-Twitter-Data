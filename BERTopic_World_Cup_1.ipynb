{
 "cells": [
  {
   "cell_type": "code",
   "execution_count": null,
   "id": "c48f9f08-1af6-4a72-adfc-11dabec56b67",
   "metadata": {},
   "outputs": [],
   "source": [
    "pip install git+https://github.com/JustAnotherArchivist/snscrape.git"
   ]
  },
  {
   "cell_type": "code",
   "execution_count": null,
   "id": "d84071b8-5d11-4eec-a202-ba5631abc3cb",
   "metadata": {},
   "outputs": [],
   "source": [
    "# Get tweets using SNSCRAPE \n",
    "import snscrape.modules.twitter as sntwitter\n",
    "import pandas as pd"
   ]
  },
  {
   "cell_type": "code",
   "execution_count": null,
   "id": "55df7d7b-8b4b-4e5f-b774-feb9af1e2969",
   "metadata": {},
   "outputs": [],
   "source": [
    "# Get 10,000 tweets containing search term: world cup within a certain period of time\n",
    "query = \"(world cup) lang:en until:2022-12-19_00:00:00_AST since:2022-11-20_00:00:00_AST -filter:replies\"\n",
    "tweets = []\n",
    "limit = 10000\n",
    "\n",
    "\n",
    "for tweet in sntwitter.TwitterSearchScraper(query).get_items():\n",
    "    if len(tweets) == limit:\n",
    "        break\n",
    "    else:\n",
    "        tweets.append([tweet.date, tweet.id, tweet.username, tweet.content])\n",
    "\n",
    "# Store tweets under a data frame        \n",
    "df = pd.DataFrame(tweets, columns=['Date', 'Id', 'User', 'Tweet'])"
   ]
  },
  {
   "cell_type": "code",
   "execution_count": null,
   "id": "30148351-b526-429a-8c16-5bbd2c1696ac",
   "metadata": {},
   "outputs": [],
   "source": [
    "# Round1: Remove URL\n",
    "df['Tweet']=df['Tweet'].str.replace('http[s]?://(?:[a-zA-Z]|[0-9]|[$-_@.&+]|[!*\\(\\),]|(?:%[0-9a-fA-F][0-9a-fA-F]))+', ' ')\n",
    "# df.head()\n",
    "\n",
    "# Round2: Remove emoji\n",
    "df['Tweet']=df['Tweet'].str.replace('[^\\w\\s#@/:%.,_-]', '', flags=re.UNICODE)\n",
    "# df.head()\n",
    "\n",
    "# Round3: Remove newlines:\\n\n",
    "df['Tweet_processed'] = df['Tweet'].replace('\\n','', regex=True)\n",
    "# df.head()\n",
    "\n",
    "# Store the filtered tweets in a new data frame\n",
    "df_new=df.drop('Tweet',axis=1)\n",
    "# df_new.head()\n",
    "\n",
    "df_new.to_pickle('world_cup_tweets.pkl')"
   ]
  },
  {
   "cell_type": "code",
   "execution_count": null,
   "id": "3b3ef689-ba2b-4128-b864-dc7b7704210c",
   "metadata": {},
   "outputs": [],
   "source": [
    "pip install bertopic"
   ]
  },
  {
   "cell_type": "code",
   "execution_count": null,
   "id": "cfa58f82-905e-4b07-8657-681ec950f1ed",
   "metadata": {},
   "outputs": [],
   "source": [
    "texts=df_new['Tweet_processed']\n",
    "\n",
    "# Set the language to English. There is other language models as well. \n",
    "from bertopic import BERTopic\n",
    "topic_model = BERTopic(language=\"english\", calculate_probabilities=True, verbose=True)\n",
    "topics, probs = topic_model.fit_transform(texts)"
   ]
  },
  {
   "cell_type": "code",
   "execution_count": null,
   "id": "5826a53c-ae8e-41d2-bb33-e175c275fa3d",
   "metadata": {},
   "outputs": [],
   "source": [
    "freq = topic_model.get_topic_info(); freq.head(11)"
   ]
  },
  {
   "cell_type": "code",
   "execution_count": null,
   "id": "4e56ee14-5c4e-40e9-9e9a-c5c0d82aa2df",
   "metadata": {},
   "outputs": [],
   "source": [
    "topic_model.get_topic(0)  # Select the most frequent topic, which is topic 0"
   ]
  },
  {
   "cell_type": "code",
   "execution_count": null,
   "id": "2e27700f-e9c4-46b4-aa53-822d17f8261c",
   "metadata": {},
   "outputs": [],
   "source": [
    "topic_model.get_representative_docs(0)"
   ]
  },
  {
   "cell_type": "code",
   "execution_count": null,
   "id": "0c7dc0f4-3661-4b18-897b-05ad2200591a",
   "metadata": {},
   "outputs": [],
   "source": [
    "topic_model.visualize_barchart(top_n_topics=10)"
   ]
  },
  {
   "cell_type": "code",
   "execution_count": null,
   "id": "882068fe-cda4-42ac-a3e3-240051a5a03d",
   "metadata": {},
   "outputs": [],
   "source": []
  }
 ],
 "metadata": {
  "kernelspec": {
   "display_name": "Python 3 (ipykernel)",
   "language": "python",
   "name": "python3"
  },
  "language_info": {
   "codemirror_mode": {
    "name": "ipython",
    "version": 3
   },
   "file_extension": ".py",
   "mimetype": "text/x-python",
   "name": "python",
   "nbconvert_exporter": "python",
   "pygments_lexer": "ipython3",
   "version": "3.8.13"
  }
 },
 "nbformat": 4,
 "nbformat_minor": 5
}
