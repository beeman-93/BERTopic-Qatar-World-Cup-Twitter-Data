{
 "cells": [
  {
   "cell_type": "code",
   "execution_count": null,
   "id": "96a346f1-5710-4d83-8784-e1868e154beb",
   "metadata": {},
   "outputs": [],
   "source": [
    "import pandas as pd\n",
    "import pickle\n",
    "import requests\n",
    "import random\n",
    "\n",
    "with open('world_cup_tweets.pkl', 'rb') as f:\n",
    "    data = pickle.load(f)\n",
    "\n",
    "tweets = data.Tweet_processed.to_list()\n",
    "tweets = random.sample(tweets, 300)"
   ]
  },
  {
   "cell_type": "code",
   "execution_count": null,
   "id": "22b74f3c-f159-420d-b5a9-4fc43d409ee5",
   "metadata": {},
   "outputs": [],
   "source": [
    "model = \"cardiffnlp/twitter-roberta-base-sentiment-latest\"\n",
    "hf_token = \"YOUR OWN TOKEN\""
   ]
  },
  {
   "cell_type": "code",
   "execution_count": null,
   "id": "e534a17d-51ec-4d27-8b53-56cc8caa09db",
   "metadata": {},
   "outputs": [],
   "source": [
    "API_URL = \"https://api-inference.huggingface.co/models/\" + model\n",
    "headers = {\"Authorization\": \"Bearer %s\" % (hf_token)}\n",
    "\n",
    "def analysis(data):\n",
    "    payload = dict(inputs=data, options=dict(wait_for_model=True))\n",
    "    response = requests.post(API_URL, headers=headers, json=payload)\n",
    "    return response.json()"
   ]
  },
  {
   "cell_type": "code",
   "execution_count": null,
   "id": "ea6366de-083d-47c8-9271-2bf37d8fa6a7",
   "metadata": {},
   "outputs": [],
   "source": [
    "tweets_analysis = []\n",
    "for tweet in tweets:\n",
    "    try:\n",
    "        sentiment_result = analysis(tweet)[0]\n",
    "        top_sentiment = max(sentiment_result, key=lambda x: x['score']) # Get the sentiment with the higher score\n",
    "        tweets_analysis.append({'tweet': tweet, 'sentiment': top_sentiment['label']})\n",
    " \n",
    "    except Exception as e:\n",
    "        print(e)"
   ]
  },
  {
   "cell_type": "code",
   "execution_count": null,
   "id": "1e8aec00-f21d-4abb-92a0-67fc39b0a769",
   "metadata": {},
   "outputs": [],
   "source": [
    "# Load the data in a dataframe\n",
    "df = pd.DataFrame(tweets_analysis)\n",
    " \n",
    "# Show a tweet for each sentiment\n",
    "print(\"Positive tweet:\")\n",
    "print(df[df['sentiment'] == 'positive']['tweet'].iloc[0])\n",
    "print(\"\\nNeutral tweet:\")\n",
    "print(df[df['sentiment'] == 'neutral']['tweet'].iloc[0])\n",
    "print(\"\\nNegative tweet:\")\n",
    "print(df[df['sentiment'] == 'negative']['tweet'].iloc[0])"
   ]
  },
  {
   "cell_type": "code",
   "execution_count": null,
   "id": "6fa9c556-a1f2-4fc0-b14c-3227932618c0",
   "metadata": {},
   "outputs": [],
   "source": [
    "sentiment_counts = df.groupby(['sentiment']).size()\n",
    "print(sentiment_counts)"
   ]
  },
  {
   "cell_type": "code",
   "execution_count": null,
   "id": "84ec2a72-4ef8-4173-8a62-10a13fb4467d",
   "metadata": {},
   "outputs": [],
   "source": [
    "import matplotlib.pyplot as plt\n",
    "fig = plt.figure(figsize=(6,6), dpi=100)\n",
    "ax = plt.subplot(111)\n",
    "sentiment_counts.plot.pie(ax=ax, autopct='%1.1f%%', startangle=270, fontsize=12, label=\"\")"
   ]
  },
  {
   "cell_type": "code",
   "execution_count": null,
   "id": "fafad6e5-818e-4685-bec0-df5adaffc1e3",
   "metadata": {},
   "outputs": [],
   "source": []
  },
  {
   "cell_type": "code",
   "execution_count": null,
   "id": "13d8f697-f654-4cac-be36-5c0379f7de15",
   "metadata": {},
   "outputs": [],
   "source": []
  }
 ],
 "metadata": {
  "kernelspec": {
   "display_name": "Python 3 (ipykernel)",
   "language": "python",
   "name": "python3"
  },
  "language_info": {
   "codemirror_mode": {
    "name": "ipython",
    "version": 3
   },
   "file_extension": ".py",
   "mimetype": "text/x-python",
   "name": "python",
   "nbconvert_exporter": "python",
   "pygments_lexer": "ipython3",
   "version": "3.8.13"
  }
 },
 "nbformat": 4,
 "nbformat_minor": 5
}
